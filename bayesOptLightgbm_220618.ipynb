{
 "cells": [
  {
   "cell_type": "markdown",
   "metadata": {},
   "source": [
    "# Lightgbm tuning with Bayesian Optimization "
   ]
  },
  {
   "cell_type": "markdown",
   "metadata": {},
   "source": [
    "By: Traci "
   ]
  },
  {
   "cell_type": "markdown",
   "metadata": {},
   "source": [
    "Lightgbm was tuned using bayesian optimization. \n",
    "\n",
    "More details can be found in readme."
   ]
  },
  {
   "cell_type": "code",
   "execution_count": 1,
   "metadata": {
    "collapsed": true,
    "deletable": true,
    "editable": true
   },
   "outputs": [],
   "source": [
    "import numpy as np\n",
    "from scipy import sparse\n",
    "import pandas as pd\n",
    "import xgboost as xgb\n",
    "import re\n",
    "import string\n",
    "import time\n",
    "import seaborn as sns\n",
    "import itertools\n",
    "import lightgbm as lgb\n",
    "from bayes_opt import BayesianOptimization\n",
    "import seaborn as sns\n",
    "import gc\n",
    "\n",
    "from sklearn import metrics\n",
    "from sklearn.metrics import mean_squared_error\n",
    "from sklearn import feature_selection\n",
    "from sklearn.model_selection import train_test_split\n",
    "from sklearn import preprocessing\n",
    "\n",
    "from sklearn import preprocessing, pipeline, metrics, model_selection\n",
    "from sklearn.feature_extraction.text import TfidfVectorizer, CountVectorizer\n",
    "from sklearn.ensemble import RandomForestClassifier, ExtraTreesClassifier\n",
    "from sklearn.preprocessing import Imputer\n",
    "%matplotlib inline\n",
    "pd.set_option('display.max_columns', 100)\n",
    "\n",
    "from nltk.corpus import stopwords \n",
    "from sklearn.feature_extraction.text import CountVectorizer, TfidfVectorizer\n",
    "from sklearn.pipeline import FeatureUnion\n",
    "from scipy.sparse import hstack, csr_matrix\n",
    "\n",
    "from sklearn.model_selection import KFold\n"
   ]
  },
  {
   "cell_type": "markdown",
   "metadata": {
    "deletable": true,
    "editable": true
   },
   "source": [
    "## Save/load data"
   ]
  },
  {
   "cell_type": "code",
   "execution_count": 3,
   "metadata": {
    "collapsed": true,
    "deletable": true,
    "editable": true
   },
   "outputs": [],
   "source": [
    "from scipy import sparse\n",
    "\n",
    "#sparse.save_npz(\"X.npz\", X)\n",
    "X = sparse.load_npz(\"X.npz\")\n",
    "\n",
    "#y.to_pickle('y.pkl')    #to save the dataframe, df to 123.pkl\n",
    "y = pd.read_pickle('y.pkl')"
   ]
  },
  {
   "cell_type": "code",
   "execution_count": 2,
   "metadata": {
    "collapsed": true,
    "deletable": true,
    "editable": true
   },
   "outputs": [],
   "source": [
    "testing = sparse.load_npz(\"testing.npz\")"
   ]
  },
  {
   "cell_type": "code",
   "execution_count": 15,
   "metadata": {
    "collapsed": true,
    "deletable": true,
    "editable": true
   },
   "outputs": [],
   "source": [
    "import pickle\n",
    "# with open(\"tfvocab.txt\", \"wb\") as fp:   #Pickling\n",
    "#     pickle.dump(tfvocab, fp)\n",
    "\n",
    "with open(\"tfvocab.txt\", \"rb\") as fp:   # Unpickling\n",
    "    tfvocab = pickle.load(fp)"
   ]
  },
  {
   "cell_type": "code",
   "execution_count": 16,
   "metadata": {
    "collapsed": true,
    "deletable": true,
    "editable": true
   },
   "outputs": [],
   "source": [
    "# For validation\n",
    "X_train, X_valid, y_train, y_valid = train_test_split(X, y, test_size=0.10, random_state=23)"
   ]
  },
  {
   "cell_type": "code",
   "execution_count": 17,
   "metadata": {
    "collapsed": true,
    "deletable": true,
    "editable": true
   },
   "outputs": [],
   "source": [
    "# LGBM Dataset Formatting\n",
    "lgtrain = lgb.Dataset(X_train, y_train,\n",
    "                     )\n",
    "lgvalid = lgb.Dataset(X_valid, y_valid,\n",
    "                     )"
   ]
  },
  {
   "cell_type": "code",
   "execution_count": 8,
   "metadata": {
    "collapsed": true,
    "deletable": true,
    "editable": true
   },
   "outputs": [],
   "source": [
    "lgb_clf_final = open('lgb_clf_final.txt')"
   ]
  },
  {
   "cell_type": "markdown",
   "metadata": {
    "deletable": true,
    "editable": true
   },
   "source": [
    "## Bayesian Optimization"
   ]
  },
  {
   "cell_type": "code",
   "execution_count": null,
   "metadata": {
    "collapsed": true
   },
   "outputs": [],
   "source": [
    "from bayes_opt import BayesianOptimization\n",
    "\n",
    "def lgb_evaluate(max_bin,\n",
    "                 num_leaves,\n",
    "                 min_gain_to_split,\n",
    "                 feature_fraction,\n",
    "                 bagging_fraction,\n",
    "                 bagging_freq,\n",
    "                 lambda_l1,\n",
    "                 lambda_l2\n",
    "                 ):\n",
    "    params = dict()\n",
    "    params['objective'] = 'regression'\n",
    "    params['learning_rate'] = 0.2\n",
    "    params['boosting_type'] = 'gbdt'\n",
    "    params['metrics'] = 'rmse'\n",
    "    params['max_bin'] = int(max_bin)\n",
    "    params['num_leaves'] = int(num_leaves)    \n",
    "    params['min_gain_to_split'] = min_gain_to_split    \n",
    "    params['feature_fraction'] = feature_fraction\n",
    "    params['bagging_fraction'] = bagging_fraction\n",
    "    params['bagging_freq'] = int(bagging_freq)\n",
    "\n",
    "\n",
    "    lgb_clf = lgb.train(params,\n",
    "                           lgtrain,\n",
    "                            valid_sets=[lgtrain, lgvalid],\n",
    "                            valid_names=['train','valid'],\n",
    "                            num_boost_round=50000,\n",
    "                            #nfold=5,\n",
    "                            early_stopping_rounds=50,\n",
    "                            #metrics='rmse',\n",
    "                            #stratified=False,\n",
    "                            #shuffle=True,\n",
    "                            verbose_eval=False\n",
    "                           )\n",
    "\n",
    "    return -np.sqrt(metrics.mean_squared_error(y_valid, lgb_clf.predict(X_valid)))\n",
    "\n",
    "\n",
    "lgb_BO = BayesianOptimization(lgb_evaluate, \n",
    "                              {\n",
    "                                'max_bin': (255,700),\n",
    "                              'num_leaves': (100, 300),\n",
    "                              'min_gain_to_split': (0,1),\n",
    "                              'feature_fraction': (0.5, 0.8),\n",
    "                              'bagging_fraction': (0.5,0.9),\n",
    "                              'bagging_freq': (1,5),\n",
    "                              'lambda_l1': (0,2),\n",
    "                              'lambda_l2': (0,2)\n",
    "                             }\n",
    "                            )\n",
    "\n",
    "lgb_BO.maximize(init_points=4, n_iter=20)"
   ]
  },
  {
   "cell_type": "code",
   "execution_count": 8,
   "metadata": {
    "collapsed": false,
    "deletable": true,
    "editable": true
   },
   "outputs": [
    {
     "data": {
      "text/html": [
       "<div>\n",
       "<style scoped>\n",
       "    .dataframe tbody tr th:only-of-type {\n",
       "        vertical-align: middle;\n",
       "    }\n",
       "\n",
       "    .dataframe tbody tr th {\n",
       "        vertical-align: top;\n",
       "    }\n",
       "\n",
       "    .dataframe thead th {\n",
       "        text-align: right;\n",
       "    }\n",
       "</style>\n",
       "<table border=\"1\" class=\"dataframe\">\n",
       "  <thead>\n",
       "    <tr style=\"text-align: right;\">\n",
       "      <th></th>\n",
       "      <th>bagging_fraction</th>\n",
       "      <th>bagging_freq</th>\n",
       "      <th>feature_fraction</th>\n",
       "      <th>lambda_l1</th>\n",
       "      <th>lambda_l2</th>\n",
       "      <th>max_bin</th>\n",
       "      <th>min_gain_to_split</th>\n",
       "      <th>num_leaves</th>\n",
       "      <th>score</th>\n",
       "    </tr>\n",
       "  </thead>\n",
       "  <tbody>\n",
       "    <tr>\n",
       "      <th>7</th>\n",
       "      <td>0.832493</td>\n",
       "      <td>4.952672</td>\n",
       "      <td>0.598908</td>\n",
       "      <td>1.925280</td>\n",
       "      <td>0.134296</td>\n",
       "      <td>352.072435</td>\n",
       "      <td>0.140583</td>\n",
       "      <td>229.655521</td>\n",
       "      <td>-0.218156</td>\n",
       "    </tr>\n",
       "    <tr>\n",
       "      <th>15</th>\n",
       "      <td>0.893277</td>\n",
       "      <td>1.798229</td>\n",
       "      <td>0.537523</td>\n",
       "      <td>1.616637</td>\n",
       "      <td>0.606078</td>\n",
       "      <td>325.143306</td>\n",
       "      <td>0.029934</td>\n",
       "      <td>145.003845</td>\n",
       "      <td>-0.218222</td>\n",
       "    </tr>\n",
       "    <tr>\n",
       "      <th>17</th>\n",
       "      <td>0.878944</td>\n",
       "      <td>4.651486</td>\n",
       "      <td>0.597520</td>\n",
       "      <td>1.790466</td>\n",
       "      <td>0.084355</td>\n",
       "      <td>467.775227</td>\n",
       "      <td>0.022870</td>\n",
       "      <td>249.349329</td>\n",
       "      <td>-0.218229</td>\n",
       "    </tr>\n",
       "    <tr>\n",
       "      <th>10</th>\n",
       "      <td>0.881402</td>\n",
       "      <td>4.599764</td>\n",
       "      <td>0.585805</td>\n",
       "      <td>0.037786</td>\n",
       "      <td>1.983252</td>\n",
       "      <td>409.324330</td>\n",
       "      <td>0.124096</td>\n",
       "      <td>200.938474</td>\n",
       "      <td>-0.218234</td>\n",
       "    </tr>\n",
       "    <tr>\n",
       "      <th>19</th>\n",
       "      <td>0.891900</td>\n",
       "      <td>1.330146</td>\n",
       "      <td>0.551770</td>\n",
       "      <td>1.462721</td>\n",
       "      <td>0.231633</td>\n",
       "      <td>698.734747</td>\n",
       "      <td>0.231905</td>\n",
       "      <td>137.680223</td>\n",
       "      <td>-0.218238</td>\n",
       "    </tr>\n",
       "    <tr>\n",
       "      <th>5</th>\n",
       "      <td>0.885416</td>\n",
       "      <td>4.744184</td>\n",
       "      <td>0.785217</td>\n",
       "      <td>1.898590</td>\n",
       "      <td>1.906142</td>\n",
       "      <td>310.048828</td>\n",
       "      <td>0.094239</td>\n",
       "      <td>101.789619</td>\n",
       "      <td>-0.218265</td>\n",
       "    </tr>\n",
       "    <tr>\n",
       "      <th>13</th>\n",
       "      <td>0.825906</td>\n",
       "      <td>2.499046</td>\n",
       "      <td>0.616984</td>\n",
       "      <td>1.744791</td>\n",
       "      <td>0.009505</td>\n",
       "      <td>511.085531</td>\n",
       "      <td>0.025667</td>\n",
       "      <td>295.967637</td>\n",
       "      <td>-0.218292</td>\n",
       "    </tr>\n",
       "    <tr>\n",
       "      <th>16</th>\n",
       "      <td>0.894235</td>\n",
       "      <td>2.169236</td>\n",
       "      <td>0.709576</td>\n",
       "      <td>1.970531</td>\n",
       "      <td>0.546580</td>\n",
       "      <td>485.932589</td>\n",
       "      <td>0.040440</td>\n",
       "      <td>161.154025</td>\n",
       "      <td>-0.218299</td>\n",
       "    </tr>\n",
       "    <tr>\n",
       "      <th>9</th>\n",
       "      <td>0.783581</td>\n",
       "      <td>2.800925</td>\n",
       "      <td>0.715756</td>\n",
       "      <td>0.039713</td>\n",
       "      <td>0.025579</td>\n",
       "      <td>699.910645</td>\n",
       "      <td>0.256329</td>\n",
       "      <td>207.510256</td>\n",
       "      <td>-0.218411</td>\n",
       "    </tr>\n",
       "    <tr>\n",
       "      <th>14</th>\n",
       "      <td>0.886987</td>\n",
       "      <td>1.074810</td>\n",
       "      <td>0.760296</td>\n",
       "      <td>1.918598</td>\n",
       "      <td>0.655052</td>\n",
       "      <td>607.450986</td>\n",
       "      <td>0.013266</td>\n",
       "      <td>105.560628</td>\n",
       "      <td>-0.218467</td>\n",
       "    </tr>\n",
       "    <tr>\n",
       "      <th>18</th>\n",
       "      <td>0.813603</td>\n",
       "      <td>4.677963</td>\n",
       "      <td>0.707961</td>\n",
       "      <td>1.942734</td>\n",
       "      <td>1.674442</td>\n",
       "      <td>255.464287</td>\n",
       "      <td>0.063676</td>\n",
       "      <td>207.708201</td>\n",
       "      <td>-0.218519</td>\n",
       "    </tr>\n",
       "    <tr>\n",
       "      <th>1</th>\n",
       "      <td>0.790869</td>\n",
       "      <td>4.980834</td>\n",
       "      <td>0.779487</td>\n",
       "      <td>1.128137</td>\n",
       "      <td>0.136892</td>\n",
       "      <td>255.333794</td>\n",
       "      <td>0.259307</td>\n",
       "      <td>299.604811</td>\n",
       "      <td>-0.218527</td>\n",
       "    </tr>\n",
       "    <tr>\n",
       "      <th>11</th>\n",
       "      <td>0.820724</td>\n",
       "      <td>4.881558</td>\n",
       "      <td>0.554867</td>\n",
       "      <td>0.007755</td>\n",
       "      <td>1.369160</td>\n",
       "      <td>404.515539</td>\n",
       "      <td>0.026299</td>\n",
       "      <td>101.516070</td>\n",
       "      <td>-0.218558</td>\n",
       "    </tr>\n",
       "    <tr>\n",
       "      <th>4</th>\n",
       "      <td>0.883407</td>\n",
       "      <td>4.768848</td>\n",
       "      <td>0.530172</td>\n",
       "      <td>0.074547</td>\n",
       "      <td>1.993940</td>\n",
       "      <td>269.246604</td>\n",
       "      <td>0.475804</td>\n",
       "      <td>201.577448</td>\n",
       "      <td>-0.218576</td>\n",
       "    </tr>\n",
       "    <tr>\n",
       "      <th>12</th>\n",
       "      <td>0.631642</td>\n",
       "      <td>4.766622</td>\n",
       "      <td>0.652783</td>\n",
       "      <td>0.023762</td>\n",
       "      <td>1.516333</td>\n",
       "      <td>342.069434</td>\n",
       "      <td>0.005654</td>\n",
       "      <td>225.902860</td>\n",
       "      <td>-0.218754</td>\n",
       "    </tr>\n",
       "    <tr>\n",
       "      <th>0</th>\n",
       "      <td>0.636047</td>\n",
       "      <td>1.215067</td>\n",
       "      <td>0.523974</td>\n",
       "      <td>1.197386</td>\n",
       "      <td>1.379077</td>\n",
       "      <td>255.028835</td>\n",
       "      <td>0.061180</td>\n",
       "      <td>101.229720</td>\n",
       "      <td>-0.219113</td>\n",
       "    </tr>\n",
       "    <tr>\n",
       "      <th>3</th>\n",
       "      <td>0.527764</td>\n",
       "      <td>4.538338</td>\n",
       "      <td>0.529696</td>\n",
       "      <td>0.578726</td>\n",
       "      <td>1.950530</td>\n",
       "      <td>699.369230</td>\n",
       "      <td>0.064473</td>\n",
       "      <td>103.259993</td>\n",
       "      <td>-0.219336</td>\n",
       "    </tr>\n",
       "    <tr>\n",
       "      <th>6</th>\n",
       "      <td>0.527972</td>\n",
       "      <td>4.990380</td>\n",
       "      <td>0.637315</td>\n",
       "      <td>1.744943</td>\n",
       "      <td>1.630610</td>\n",
       "      <td>697.899126</td>\n",
       "      <td>0.454000</td>\n",
       "      <td>296.985512</td>\n",
       "      <td>-0.219583</td>\n",
       "    </tr>\n",
       "    <tr>\n",
       "      <th>8</th>\n",
       "      <td>0.747570</td>\n",
       "      <td>4.654816</td>\n",
       "      <td>0.752335</td>\n",
       "      <td>1.971185</td>\n",
       "      <td>0.068051</td>\n",
       "      <td>256.336724</td>\n",
       "      <td>0.791914</td>\n",
       "      <td>106.050410</td>\n",
       "      <td>-0.219823</td>\n",
       "    </tr>\n",
       "    <tr>\n",
       "      <th>2</th>\n",
       "      <td>0.525784</td>\n",
       "      <td>1.047780</td>\n",
       "      <td>0.748426</td>\n",
       "      <td>1.795944</td>\n",
       "      <td>1.509465</td>\n",
       "      <td>269.320283</td>\n",
       "      <td>0.965212</td>\n",
       "      <td>296.834350</td>\n",
       "      <td>-0.220141</td>\n",
       "    </tr>\n",
       "  </tbody>\n",
       "</table>\n",
       "</div>"
      ],
      "text/plain": [
       "    bagging_fraction  bagging_freq  feature_fraction  lambda_l1  lambda_l2  \\\n",
       "7           0.832493      4.952672          0.598908   1.925280   0.134296   \n",
       "15          0.893277      1.798229          0.537523   1.616637   0.606078   \n",
       "17          0.878944      4.651486          0.597520   1.790466   0.084355   \n",
       "10          0.881402      4.599764          0.585805   0.037786   1.983252   \n",
       "19          0.891900      1.330146          0.551770   1.462721   0.231633   \n",
       "5           0.885416      4.744184          0.785217   1.898590   1.906142   \n",
       "13          0.825906      2.499046          0.616984   1.744791   0.009505   \n",
       "16          0.894235      2.169236          0.709576   1.970531   0.546580   \n",
       "9           0.783581      2.800925          0.715756   0.039713   0.025579   \n",
       "14          0.886987      1.074810          0.760296   1.918598   0.655052   \n",
       "18          0.813603      4.677963          0.707961   1.942734   1.674442   \n",
       "1           0.790869      4.980834          0.779487   1.128137   0.136892   \n",
       "11          0.820724      4.881558          0.554867   0.007755   1.369160   \n",
       "4           0.883407      4.768848          0.530172   0.074547   1.993940   \n",
       "12          0.631642      4.766622          0.652783   0.023762   1.516333   \n",
       "0           0.636047      1.215067          0.523974   1.197386   1.379077   \n",
       "3           0.527764      4.538338          0.529696   0.578726   1.950530   \n",
       "6           0.527972      4.990380          0.637315   1.744943   1.630610   \n",
       "8           0.747570      4.654816          0.752335   1.971185   0.068051   \n",
       "2           0.525784      1.047780          0.748426   1.795944   1.509465   \n",
       "\n",
       "       max_bin  min_gain_to_split  num_leaves     score  \n",
       "7   352.072435           0.140583  229.655521 -0.218156  \n",
       "15  325.143306           0.029934  145.003845 -0.218222  \n",
       "17  467.775227           0.022870  249.349329 -0.218229  \n",
       "10  409.324330           0.124096  200.938474 -0.218234  \n",
       "19  698.734747           0.231905  137.680223 -0.218238  \n",
       "5   310.048828           0.094239  101.789619 -0.218265  \n",
       "13  511.085531           0.025667  295.967637 -0.218292  \n",
       "16  485.932589           0.040440  161.154025 -0.218299  \n",
       "9   699.910645           0.256329  207.510256 -0.218411  \n",
       "14  607.450986           0.013266  105.560628 -0.218467  \n",
       "18  255.464287           0.063676  207.708201 -0.218519  \n",
       "1   255.333794           0.259307  299.604811 -0.218527  \n",
       "11  404.515539           0.026299  101.516070 -0.218558  \n",
       "4   269.246604           0.475804  201.577448 -0.218576  \n",
       "12  342.069434           0.005654  225.902860 -0.218754  \n",
       "0   255.028835           0.061180  101.229720 -0.219113  \n",
       "3   699.369230           0.064473  103.259993 -0.219336  \n",
       "6   697.899126           0.454000  296.985512 -0.219583  \n",
       "8   256.336724           0.791914  106.050410 -0.219823  \n",
       "2   269.320283           0.965212  296.834350 -0.220141  "
      ]
     },
     "execution_count": 8,
     "metadata": {},
     "output_type": "execute_result"
    }
   ],
   "source": [
    "# Show tuning results\n",
    "lgb_BO_scores = pd.DataFrame(lgb_BO.res['all']['params'])\n",
    "\n",
    "lgb_BO_scores['score'] = pd.DataFrame(lgb_BO.res['all']['values'])\n",
    "\n",
    "lgb_BO_scores = lgb_BO_scores.sort_values(by='score',ascending=False)\n",
    "lgb_BO_scores"
   ]
  },
  {
   "cell_type": "code",
   "execution_count": 9,
   "metadata": {
    "collapsed": true,
    "deletable": true,
    "editable": true
   },
   "outputs": [],
   "source": [
    "lgb_BO_scores.to_pickle('lgb_BO_scores.pkl')    #to save the dataframe, df to 123.pkl\n",
    "#y = pd.read_pickle('y.pkl')"
   ]
  },
  {
   "cell_type": "code",
   "execution_count": 13,
   "metadata": {
    "collapsed": false,
    "deletable": true,
    "editable": true
   },
   "outputs": [
    {
     "name": "stdout",
     "output_type": "stream",
     "text": [
      "Training until validation scores don't improve for 200 rounds.\n",
      "[100]\ttrain's l2: 0.0494789\tvalid's l2: 0.050374\n",
      "[200]\ttrain's l2: 0.0474524\tvalid's l2: 0.0488577\n",
      "[300]\ttrain's l2: 0.0463288\tvalid's l2: 0.0482089\n",
      "[400]\ttrain's l2: 0.0454828\tvalid's l2: 0.047797\n",
      "[500]\ttrain's l2: 0.0448062\tvalid's l2: 0.04754\n",
      "[600]\ttrain's l2: 0.0442328\tvalid's l2: 0.0473618\n",
      "[700]\ttrain's l2: 0.0437354\tvalid's l2: 0.0472423\n",
      "[800]\ttrain's l2: 0.0432879\tvalid's l2: 0.0471556\n",
      "[900]\ttrain's l2: 0.0428721\tvalid's l2: 0.04708\n",
      "[1000]\ttrain's l2: 0.0424885\tvalid's l2: 0.0470195\n",
      "[1100]\ttrain's l2: 0.0421271\tvalid's l2: 0.0469712\n",
      "[1200]\ttrain's l2: 0.0417989\tvalid's l2: 0.0469257\n",
      "[1300]\ttrain's l2: 0.0414975\tvalid's l2: 0.0468891\n",
      "[1400]\ttrain's l2: 0.0411949\tvalid's l2: 0.0468484\n",
      "[1500]\ttrain's l2: 0.0409203\tvalid's l2: 0.0468147\n",
      "[1600]\ttrain's l2: 0.040676\tvalid's l2: 0.0467939\n",
      "[1700]\ttrain's l2: 0.0404391\tvalid's l2: 0.0467688\n",
      "[1800]\ttrain's l2: 0.0402227\tvalid's l2: 0.0467564\n",
      "[1900]\ttrain's l2: 0.0400241\tvalid's l2: 0.0467384\n",
      "[2000]\ttrain's l2: 0.0398498\tvalid's l2: 0.0467316\n",
      "[2100]\ttrain's l2: 0.0396953\tvalid's l2: 0.0467243\n",
      "[2200]\ttrain's l2: 0.0395532\tvalid's l2: 0.0467189\n",
      "[2300]\ttrain's l2: 0.0394381\tvalid's l2: 0.0467197\n",
      "Early stopping, best iteration is:\n",
      "[2152]\ttrain's l2: 0.0396164\tvalid's l2: 0.0467178\n",
      "2152 0.2161430804492989\n"
     ]
    }
   ],
   "source": [
    "# Train the model with smaller learning rate\n",
    "params = lgb_BO_scores.iloc[0].to_dict() # get the set of params with highest score\n",
    "lgb_params = dict()\n",
    "lgb_params['objective'] = 'regression'\n",
    "lgb_params['learning_rate'] = 0.02 # Smaller learning rate\n",
    "lgb_params['boosting_type'] = 'gbdt'\n",
    "lgb_params['metrics'] = 'root_mean_squared_error'\n",
    " \n",
    "lgb_params['max_bin'] = int(params['max_bin'])   \n",
    "lgb_params['num_leaves'] = int(params['num_leaves'])    \n",
    "lgb_params['min_gain_to_split'] = params['min_gain_to_split']     \n",
    "lgb_params['feature_fraction'] = params['feature_fraction']\n",
    "lgb_params['bagging_fraction'] = params['bagging_fraction']\n",
    "lgb_params['bagging_freq'] = int(params['bagging_freq'])\n",
    "lgb_params['lambda_l1'] = int(params['lambda_l1'])\n",
    "lgb_params['lambda_l2'] = int(params['lambda_l2'])\n",
    "\n",
    "\n",
    "best_lgb_clf = lgb.train(lgb_params,\n",
    "                lgtrain,\n",
    "                valid_sets=[lgtrain, lgvalid],\n",
    "                valid_names=['train','valid'],\n",
    "                num_boost_round=1000000,\n",
    "                #nfold=5,\n",
    "                early_stopping_rounds=200, # Bigger stopping rounds\n",
    "                #metrics='rmse',\n",
    "                #shuffle=True, stratified=False,\n",
    "                verbose_eval=100\n",
    "               )\n",
    "\n",
    "best_lgb_iteration = best_lgb_clf.current_iteration()\n",
    "best_lgb_score = np.sqrt(metrics.mean_squared_error(y_valid, best_lgb_clf.predict(X_valid)))\n",
    "\n",
    "print (best_lgb_iteration, best_lgb_score)\n"
   ]
  },
  {
   "cell_type": "code",
   "execution_count": 12,
   "metadata": {
    "collapsed": false,
    "deletable": true,
    "editable": true
   },
   "outputs": [
    {
     "data": {
      "text/plain": [
       "{'objective': 'regression',\n",
       " 'learning_rate': 0.02,\n",
       " 'boosting_type': 'gbdt',\n",
       " 'metrics': 'rmse',\n",
       " 'max_bin': 352,\n",
       " 'num_leaves': 229,\n",
       " 'min_gain_to_split': 0.14058266065471703,\n",
       " 'feature_fraction': 0.5989083426274472,\n",
       " 'bagging_fraction': 0.8324926777545907,\n",
       " 'bagging_freq': 4,\n",
       " 'lambda_l1': 1,\n",
       " 'lambda_l2': 0,\n",
       " 'verbose': 1}"
      ]
     },
     "execution_count": 12,
     "metadata": {},
     "output_type": "execute_result"
    }
   ],
   "source": [
    "lgb_params"
   ]
  },
  {
   "cell_type": "code",
   "execution_count": 18,
   "metadata": {
    "collapsed": true,
    "deletable": true,
    "editable": true
   },
   "outputs": [],
   "source": [
    "lgb_params = {'objective': 'regression',\n",
    "             'learning_rate': 0.02,\n",
    "             'boosting_type': 'gbdt',\n",
    "             'metrics': 'rmse',\n",
    "             'max_bin': 352,\n",
    "             'num_leaves': 229,\n",
    "             'min_gain_to_split': 0.14058266065471703,\n",
    "             'feature_fraction': 0.5989083426274472,\n",
    "             'bagging_fraction': 0.8324926777545907,\n",
    "             'bagging_freq': 4,\n",
    "             'lambda_l1': 1,\n",
    "             'lambda_l2': 0,\n",
    "             'verbose': 1}\n",
    "\n",
    "best_lgb_iteration = 2152"
   ]
  },
  {
   "cell_type": "code",
   "execution_count": 19,
   "metadata": {
    "collapsed": false,
    "deletable": true,
    "editable": true
   },
   "outputs": [
    {
     "name": "stdout",
     "output_type": "stream",
     "text": [
      "Training finished in 5727 seconds.\n"
     ]
    }
   ],
   "source": [
    "# Prepare submission for best single model\n",
    "start = time.time()\n",
    "lgtrain = lgb.Dataset(X, y)\n",
    "    #del X; gc.collect()\n",
    "    # Go Go Go\n",
    "lgb_clf = lgb.train(\n",
    "                    lgb_params,\n",
    "                    lgtrain,\n",
    "                    num_boost_round=best_lgb_iteration,\n",
    "                    verbose_eval=100\n",
    "                )\n",
    "print (\"Training finished in %d seconds.\" % (time.time()-start))"
   ]
  },
  {
   "cell_type": "code",
   "execution_count": 20,
   "metadata": {
    "collapsed": false,
    "deletable": true,
    "editable": true
   },
   "outputs": [
    {
     "data": {
      "text/plain": [
       "['lgb_clf.pkl']"
      ]
     },
     "execution_count": 20,
     "metadata": {},
     "output_type": "execute_result"
    }
   ],
   "source": [
    "from sklearn.externals import joblib\n",
    "# save model\n",
    "joblib.dump(lgb_clf, 'lgb_clf.pkl')\n",
    "# load model\n",
    "#lgb_clf = joblib.load('lgb_clf.pkl')"
   ]
  },
  {
   "cell_type": "code",
   "execution_count": 5,
   "metadata": {
    "collapsed": true,
    "deletable": true,
    "editable": true
   },
   "outputs": [],
   "source": [
    "from sklearn.externals import joblib\n",
    "lgb_clf = joblib.load('lgb_clf.pkl')"
   ]
  },
  {
   "cell_type": "code",
   "execution_count": 6,
   "metadata": {
    "collapsed": false,
    "deletable": true,
    "editable": true
   },
   "outputs": [
    {
     "data": {
      "text/plain": [
       "<lightgbm.basic.Booster at 0x1e86cc2c550>"
      ]
     },
     "execution_count": 6,
     "metadata": {},
     "output_type": "execute_result"
    }
   ],
   "source": [
    "lgb_clf"
   ]
  },
  {
   "cell_type": "code",
   "execution_count": 11,
   "metadata": {
    "collapsed": false,
    "deletable": true,
    "editable": true
   },
   "outputs": [
    {
     "name": "stdout",
     "output_type": "stream",
     "text": [
      "LGBMRegressor(boosting_type='gbdt', class_weight=None,\n",
      "       colsample_bytree=0.5989083426274472, lambda_l1=1, lambda_l2=0,\n",
      "       learning_rate=0.02, max_bin=352, max_depth=-1, min_child_samples=20,\n",
      "       min_child_weight=0.001, min_split_gain=0.14058266065471703,\n",
      "       n_estimators=2152, n_jobs=-1, num_leaves=229,\n",
      "       objective='root_mean_squared_error', random_state=1234,\n",
      "       reg_alpha=0.0, reg_lambda=0.0, silent=True,\n",
      "       subsample=0.8324926777545907, subsample_for_bin=200000,\n",
      "       subsample_freq=4)\n",
      "Training finished in 5426 seconds.\n"
     ]
    }
   ],
   "source": [
    "# Prepare submission for best single model\n",
    "start = time.time()\n",
    "clf = lgb.LGBMRegressor(learning_rate = 0.02\n",
    "                        , n_estimators =best_lgb_iteration \n",
    "                        , max_bin = lgb_params['max_bin']\n",
    "                        , num_leaves = lgb_params['num_leaves']\n",
    "                        , min_split_gain = lgb_params['min_gain_to_split'] \n",
    "                        , colsample_bytree = lgb_params['feature_fraction']\n",
    "                        , subsample = lgb_params['bagging_fraction']\n",
    "                        , subsample_freq = lgb_params['bagging_freq']\n",
    "                        , lambda_l1 = lgb_params['lambda_l1']\n",
    "                        , lambda_l2 = lgb_params['lambda_l2']\n",
    "                        , random_state = 1234\n",
    "                        , objective = 'root_mean_squared_error'\n",
    "                       )\n",
    "\n",
    "print (clf)\n",
    "\n",
    "clf.fit(X, y)\n",
    "\n",
    "print (\"Training finished in %d seconds.\" % (time.time()-start))"
   ]
  },
  {
   "cell_type": "code",
   "execution_count": null,
   "metadata": {
    "collapsed": false,
    "deletable": true,
    "editable": true
   },
   "outputs": [
    {
     "name": "stderr",
     "output_type": "stream",
     "text": [
      "C:\\Users\\paperspace\\Anaconda3\\lib\\site-packages\\lightgbm\\basic.py:447: UserWarning: Converting data to scipy sparse matrix.\n",
      "  warnings.warn('Converting data to scipy sparse matrix.')\n"
     ]
    }
   ],
   "source": [
    "preds = lgb_clf.predict(testing)"
   ]
  },
  {
   "cell_type": "code",
   "execution_count": null,
   "metadata": {
    "collapsed": false,
    "deletable": true,
    "editable": true
   },
   "outputs": [
    {
     "name": "stderr",
     "output_type": "stream",
     "text": [
      "C:\\Users\\paperspace\\Anaconda3\\lib\\site-packages\\lightgbm\\basic.py:447: UserWarning: Converting data to scipy sparse matrix.\n",
      "  warnings.warn('Converting data to scipy sparse matrix.')\n"
     ]
    }
   ],
   "source": [
    "preds = clf.predict(testing)\n",
    "lgsub = pd.DataFrame(preds,columns=[\"deal_probability\"],index=testdex)\n",
    "lgsub['deal_probability'] = lgsub['deal_probability'].clip(0.0, 1.0) # Between 0 and 1\n",
    "lgsub.to_csv(\"bow-meta-text-and-dense-features-lgbm-.csv\",index=True,header=True)"
   ]
  },
  {
   "cell_type": "markdown",
   "metadata": {
    "deletable": true,
    "editable": true
   },
   "source": [
    "## Stacking"
   ]
  },
  {
   "cell_type": "code",
   "execution_count": null,
   "metadata": {
    "collapsed": true,
    "deletable": true,
    "editable": true
   },
   "outputs": [],
   "source": [
    "preds = clf.predict(testing)\n",
    "lgsub = pd.DataFrame(preds,columns=[\"deal_probability\"],index=testdex)\n",
    "lgsub['deal_probability'] = lgsub['deal_probability'].clip(0.0, 1.0) # Between 0 and 1\n",
    "lgsub.to_csv(\"bow-meta-text-and-dense-features-lgbm-.csv\",index=True,header=True)"
   ]
  }
 ],
 "metadata": {
  "kernelspec": {
   "display_name": "Python 3",
   "language": "python",
   "name": "python3"
  },
  "language_info": {
   "codemirror_mode": {
    "name": "ipython",
    "version": 3
   },
   "file_extension": ".py",
   "mimetype": "text/x-python",
   "name": "python",
   "nbconvert_exporter": "python",
   "pygments_lexer": "ipython3",
   "version": "3.6.3"
  }
 },
 "nbformat": 4,
 "nbformat_minor": 2
}
