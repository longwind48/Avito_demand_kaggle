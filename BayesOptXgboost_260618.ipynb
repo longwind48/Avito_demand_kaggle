{
 "cells": [
  {
   "cell_type": "markdown",
   "metadata": {},
   "source": [
    "# XGBoost tuning with Bayesian Optimization "
   ]
  },
  {
   "cell_type": "markdown",
   "metadata": {},
   "source": [
    "By: Traci"
   ]
  },
  {
   "cell_type": "markdown",
   "metadata": {},
   "source": [
    "XGBoost was tuned using bayesian optimization. \n",
    "\n",
    "More details can be found in readme."
   ]
  },
  {
   "cell_type": "code",
   "execution_count": 2,
   "metadata": {
    "collapsed": false,
    "deletable": true,
    "editable": true
   },
   "outputs": [
    {
     "name": "stdout",
     "output_type": "stream",
     "text": [
      "Data:\n",
      " ['aggregated_features.csv', 'periods_test.csv', 'periods_train.csv', 'test.csv', 'test_active.csv', 'train.csv', 'train_active.csv', 'X.npz']\n"
     ]
    }
   ],
   "source": [
    "import time\n",
    "notebookstart= time.time()\n",
    "\n",
    "import numpy as np # linear algebra\n",
    "import pandas as pd # data processing, CSV file I/O (e.g. pd.read_csv)\n",
    "import os\n",
    "import gc\n",
    "import string\n",
    "pd.set_option('display.max_columns', 100)\n",
    "from bayes_opt import BayesianOptimization\n",
    "\n",
    "print(\"Data:\\n\",os.listdir(\"data\"))\n",
    "\n",
    "# Models Packages\n",
    "from sklearn import metrics\n",
    "from sklearn.metrics import mean_squared_error\n",
    "from sklearn import feature_selection\n",
    "from sklearn.model_selection import train_test_split\n",
    "from sklearn import preprocessing, model_selection\n",
    "\n",
    "# Gradient Boosting\n",
    "import lightgbm as lgb\n",
    "import xgboost as xgb\n",
    "\n",
    "# Tf-Idf\n",
    "from sklearn.feature_extraction.text import CountVectorizer, TfidfVectorizer\n",
    "from sklearn.pipeline import FeatureUnion\n",
    "from scipy.sparse import hstack, csr_matrix\n",
    "from nltk.corpus import stopwords \n",
    "\n",
    "# Viz\n",
    "import seaborn as sns\n",
    "import matplotlib.pyplot as plt\n",
    "\n",
    "import warnings\n",
    "warnings.filterwarnings(\"ignore\")"
   ]
  },
  {
   "cell_type": "markdown",
   "metadata": {},
   "source": [
    "## Save/load data"
   ]
  },
  {
   "cell_type": "code",
   "execution_count": 2,
   "metadata": {
    "collapsed": true,
    "deletable": true,
    "editable": true
   },
   "outputs": [],
   "source": [
    "# ## Save and load for train-validation sets\n",
    "# from scipy import sparse\n",
    "\n",
    "# #sparse.save_npz(\"X_valid.npz\", X_valid)\n",
    "# X_valid = sparse.load_npz(\"X_valid.npz\")\n",
    "# #sparse.save_npz(\"X_train.npz\", X_train)\n",
    "# X_train = sparse.load_npz(\"X_train.npz\")\n",
    "\n",
    "# #y_train.to_pickle('y_train.pkl')\n",
    "# y_train = pd.read_pickle('y_train.pkl')\n",
    "# #y_valid.to_pickle('y_valid.pkl')    \n",
    "# y_valid = pd.read_pickle('y_valid.pkl')"
   ]
  },
  {
   "cell_type": "code",
   "execution_count": 22,
   "metadata": {
    "collapsed": true,
    "deletable": true,
    "editable": true
   },
   "outputs": [],
   "source": [
    "testing = pd.read_csv('data/test.csv', index_col = \"item_id\", parse_dates = [\"activation_date\"])#.sample(1000)\n",
    "testdex = testing.index"
   ]
  },
  {
   "cell_type": "code",
   "execution_count": 3,
   "metadata": {
    "collapsed": true,
    "deletable": true,
    "editable": true
   },
   "outputs": [],
   "source": [
    "## Save and load for train-test sets\n",
    "from scipy import sparse\n",
    "\n",
    "#sparse.save_npz(\"avito_ridge_final/targetenc_X.npz\", X)\n",
    "X = sparse.load_npz(\"avito_ridge_final/X.npz\")\n",
    "#sparse.save_npz(\"avito_ridge_final/targetenc_testing.npz\", testing)\n",
    "testing = sparse.load_npz(\"avito_ridge_final/testing.npz\")\n",
    "\n",
    "#y.to_pickle('avito_ridge_final/targetenc_y.pkl')    #to save the dataframe, df to 123.pkl\n",
    "y = pd.read_pickle('avito_ridge_final/targetenc_y.pkl')"
   ]
  },
  {
   "cell_type": "code",
   "execution_count": 5,
   "metadata": {
    "collapsed": true,
    "deletable": true,
    "editable": true
   },
   "outputs": [],
   "source": [
    "import pickle\n",
    "# with open(\"avito_ridge_final/targetenc_tfvocab.txt\", \"wb\") as fp:   #Pickling \n",
    "#     pickle.dump(tfvocab, fp)\n",
    "\n",
    "with open(\"avito_ridge_final/tfvocab.txt\", \"rb\") as fp:   # Unpickling\n",
    "   tfvocab = pickle.load(fp)"
   ]
  },
  {
   "cell_type": "code",
   "execution_count": 6,
   "metadata": {
    "collapsed": true,
    "deletable": true,
    "editable": true
   },
   "outputs": [],
   "source": [
    "# For validation\n",
    "X_train, X_valid, y_train, y_valid = train_test_split(X, y, test_size=0.10, random_state=23)"
   ]
  },
  {
   "cell_type": "code",
   "execution_count": 7,
   "metadata": {
    "collapsed": true,
    "deletable": true,
    "editable": true
   },
   "outputs": [],
   "source": [
    "xgtrain = xgb.DMatrix(data=X_train, label=y_train)"
   ]
  },
  {
   "cell_type": "code",
   "execution_count": 8,
   "metadata": {
    "collapsed": true,
    "deletable": true,
    "editable": true
   },
   "outputs": [],
   "source": [
    "xgval = xgb.DMatrix(data=X_valid, label=y_valid)"
   ]
  },
  {
   "cell_type": "code",
   "execution_count": 9,
   "metadata": {
    "collapsed": true,
    "deletable": true,
    "editable": true
   },
   "outputs": [],
   "source": [
    "watchlist = [(xgval, 'eval')]"
   ]
  },
  {
   "cell_type": "code",
   "execution_count": 19,
   "metadata": {
    "collapsed": true,
    "deletable": true,
    "editable": true
   },
   "outputs": [],
   "source": [
    "xgtest = xgb.DMatrix(data=testing)"
   ]
  },
  {
   "cell_type": "markdown",
   "metadata": {
    "deletable": true,
    "editable": true
   },
   "source": [
    "## Bayesian Optimization for XGBoost"
   ]
  },
  {
   "cell_type": "code",
   "execution_count": 9,
   "metadata": {
    "collapsed": false,
    "deletable": true,
    "editable": true,
    "scrolled": true
   },
   "outputs": [
    {
     "name": "stdout",
     "output_type": "stream",
     "text": [
      "\u001b[31mInitialization\u001b[0m\n",
      "\u001b[94m---------------------------------------------------------------------------------------------------------------------------------------\u001b[0m\n",
      " Step |   Time |      Value |     alpha |   colsample_bytree |     gamma |   lambdaa |   max_depth |   min_child_weight |   subsample | \n",
      "    1 | 12m00s | \u001b[35m  -0.22018\u001b[0m | \u001b[32m   0.1811\u001b[0m | \u001b[32m            0.4163\u001b[0m | \u001b[32m   1.0728\u001b[0m | \u001b[32m   1.7154\u001b[0m | \u001b[32m    27.5597\u001b[0m | \u001b[32m           19.3760\u001b[0m | \u001b[32m     0.8532\u001b[0m | \n",
      "    2 | 29m23s | \u001b[35m  -0.21856\u001b[0m | \u001b[32m   1.7412\u001b[0m | \u001b[32m            0.5046\u001b[0m | \u001b[32m   1.5346\u001b[0m | \u001b[32m   0.6557\u001b[0m | \u001b[32m    10.2929\u001b[0m | \u001b[32m          103.7318\u001b[0m | \u001b[32m     0.8659\u001b[0m | \n",
      "    3 | 08m52s |   -0.22366 |    1.5826 |             0.2635 |    1.3957 |    0.0729 |     21.5664 |             1.2775 |      0.9062 | \n",
      "    4 | 18m40s |   -0.21887 |    1.0174 |             0.5325 |    0.5713 |    0.8236 |     18.1567 |           199.1020 |      0.6967 | \n",
      "\u001b[31mBayesian Optimization\u001b[0m\n",
      "\u001b[94m---------------------------------------------------------------------------------------------------------------------------------------\u001b[0m\n",
      " Step |   Time |      Value |     alpha |   colsample_bytree |     gamma |   lambdaa |   max_depth |   min_child_weight |   subsample | \n",
      "    5 | 16m17s |   -0.21901 |    1.9727 |             0.2458 |    1.9552 |    0.0504 |     29.8378 |           115.0731 |      0.8125 | \n",
      "    6 | 14m40s |   -0.21880 |    0.2080 |             0.2410 |    0.0126 |    1.9340 |     26.3843 |           123.5721 |      0.8919 | \n",
      "    7 | 32m10s | \u001b[35m  -0.21848\u001b[0m | \u001b[32m   0.2579\u001b[0m | \u001b[32m            0.3505\u001b[0m | \u001b[32m   1.9848\u001b[0m | \u001b[32m   1.9895\u001b[0m | \u001b[32m     8.4891\u001b[0m | \u001b[32m          187.4124\u001b[0m | \u001b[32m     0.9079\u001b[0m | \n",
      "    8 | 15m30s |   -0.21922 |    0.0311 |             0.1283 |    1.8612 |    0.1207 |      8.3303 |            65.3759 |      0.7529 | \n",
      "    9 | 19m38s |   -0.21880 |    1.7671 |             0.3742 |    1.6707 |    1.9036 |     28.5832 |           198.7751 |      0.7674 | \n",
      "   10 | 18m03s |   -0.22029 |    1.9825 |             0.1026 |    1.1865 |    1.8474 |     29.4550 |            66.8413 |      0.6821 | \n",
      "   11 | 24m51s |   -0.21876 |    0.0622 |             0.6702 |    1.9011 |    0.0886 |     28.1590 |           173.7868 |      0.7268 | \n",
      "   12 | 32m17s |   -0.21870 |    0.2010 |             0.6903 |    1.9755 |    1.9547 |     19.5682 |           105.1220 |      0.7857 | \n",
      "   13 | 18m13s |   -0.21949 |    0.2340 |             0.1143 |    1.3293 |    0.2586 |      7.4756 |           128.0736 |      0.6473 | \n",
      "   14 | 21m26s |   -0.21910 |    1.9641 |             0.6166 |    0.3317 |    1.8929 |      7.1910 |            30.2250 |      0.9958 | \n",
      "   15 | 39m27s |   -0.21861 |    1.9978 |             0.6675 |    0.0029 |    1.3629 |      8.0555 |           156.8330 |      0.9179 | \n"
     ]
    },
    {
     "ename": "KeyboardInterrupt",
     "evalue": "",
     "output_type": "error",
     "traceback": [
      "\u001b[1;31m---------------------------------------------------------------------------\u001b[0m",
      "\u001b[1;31mKeyboardInterrupt\u001b[0m                         Traceback (most recent call last)",
      "\u001b[1;32m<timed exec>\u001b[0m in \u001b[0;36m<module>\u001b[1;34m()\u001b[0m\n",
      "\u001b[1;32m~\\Anaconda3\\lib\\site-packages\\bayes_opt\\bayesian_optimization.py\u001b[0m in \u001b[0;36mmaximize\u001b[1;34m(self, init_points, n_iter, acq, kappa, xi, **gp_params)\u001b[0m\n\u001b[0;32m    277\u001b[0m \u001b[1;33m\u001b[0m\u001b[0m\n\u001b[0;32m    278\u001b[0m             \u001b[1;31m# Append most recently generated values to X and Y arrays\u001b[0m\u001b[1;33m\u001b[0m\u001b[1;33m\u001b[0m\u001b[0m\n\u001b[1;32m--> 279\u001b[1;33m             \u001b[0my\u001b[0m \u001b[1;33m=\u001b[0m \u001b[0mself\u001b[0m\u001b[1;33m.\u001b[0m\u001b[0mspace\u001b[0m\u001b[1;33m.\u001b[0m\u001b[0mobserve_point\u001b[0m\u001b[1;33m(\u001b[0m\u001b[0mx_max\u001b[0m\u001b[1;33m)\u001b[0m\u001b[1;33m\u001b[0m\u001b[0m\n\u001b[0m\u001b[0;32m    280\u001b[0m             \u001b[1;32mif\u001b[0m \u001b[0mself\u001b[0m\u001b[1;33m.\u001b[0m\u001b[0mverbose\u001b[0m\u001b[1;33m:\u001b[0m\u001b[1;33m\u001b[0m\u001b[0m\n\u001b[0;32m    281\u001b[0m                 \u001b[0mself\u001b[0m\u001b[1;33m.\u001b[0m\u001b[0mplog\u001b[0m\u001b[1;33m.\u001b[0m\u001b[0mprint_step\u001b[0m\u001b[1;33m(\u001b[0m\u001b[0mx_max\u001b[0m\u001b[1;33m,\u001b[0m \u001b[0my\u001b[0m\u001b[1;33m,\u001b[0m \u001b[0mpwarning\u001b[0m\u001b[1;33m)\u001b[0m\u001b[1;33m\u001b[0m\u001b[0m\n",
      "\u001b[1;32m~\\Anaconda3\\lib\\site-packages\\bayes_opt\\target_space.py\u001b[0m in \u001b[0;36mobserve_point\u001b[1;34m(self, x)\u001b[0m\n\u001b[0;32m    137\u001b[0m             \u001b[1;31m# measure the target function\u001b[0m\u001b[1;33m\u001b[0m\u001b[1;33m\u001b[0m\u001b[0m\n\u001b[0;32m    138\u001b[0m             \u001b[0mparams\u001b[0m \u001b[1;33m=\u001b[0m \u001b[0mdict\u001b[0m\u001b[1;33m(\u001b[0m\u001b[0mzip\u001b[0m\u001b[1;33m(\u001b[0m\u001b[0mself\u001b[0m\u001b[1;33m.\u001b[0m\u001b[0mkeys\u001b[0m\u001b[1;33m,\u001b[0m \u001b[0mx\u001b[0m\u001b[1;33m)\u001b[0m\u001b[1;33m)\u001b[0m\u001b[1;33m\u001b[0m\u001b[0m\n\u001b[1;32m--> 139\u001b[1;33m             \u001b[0my\u001b[0m \u001b[1;33m=\u001b[0m \u001b[0mself\u001b[0m\u001b[1;33m.\u001b[0m\u001b[0mtarget_func\u001b[0m\u001b[1;33m(\u001b[0m\u001b[1;33m**\u001b[0m\u001b[0mparams\u001b[0m\u001b[1;33m)\u001b[0m\u001b[1;33m\u001b[0m\u001b[0m\n\u001b[0m\u001b[0;32m    140\u001b[0m             \u001b[0mself\u001b[0m\u001b[1;33m.\u001b[0m\u001b[0madd_observation\u001b[0m\u001b[1;33m(\u001b[0m\u001b[0mx\u001b[0m\u001b[1;33m,\u001b[0m \u001b[0my\u001b[0m\u001b[1;33m)\u001b[0m\u001b[1;33m\u001b[0m\u001b[0m\n\u001b[0;32m    141\u001b[0m         \u001b[1;32mreturn\u001b[0m \u001b[0my\u001b[0m\u001b[1;33m\u001b[0m\u001b[0m\n",
      "\u001b[1;32m<timed exec>\u001b[0m in \u001b[0;36mxgb_evaluate\u001b[1;34m(min_child_weight, colsample_bytree, max_depth, subsample, gamma, alpha, lambdaa)\u001b[0m\n",
      "\u001b[1;32m~\\Anaconda3\\lib\\site-packages\\xgboost\\training.py\u001b[0m in \u001b[0;36mtrain\u001b[1;34m(params, dtrain, num_boost_round, evals, obj, feval, maximize, early_stopping_rounds, evals_result, verbose_eval, xgb_model, callbacks, learning_rates)\u001b[0m\n\u001b[0;32m    202\u001b[0m                            \u001b[0mevals\u001b[0m\u001b[1;33m=\u001b[0m\u001b[0mevals\u001b[0m\u001b[1;33m,\u001b[0m\u001b[1;33m\u001b[0m\u001b[0m\n\u001b[0;32m    203\u001b[0m                            \u001b[0mobj\u001b[0m\u001b[1;33m=\u001b[0m\u001b[0mobj\u001b[0m\u001b[1;33m,\u001b[0m \u001b[0mfeval\u001b[0m\u001b[1;33m=\u001b[0m\u001b[0mfeval\u001b[0m\u001b[1;33m,\u001b[0m\u001b[1;33m\u001b[0m\u001b[0m\n\u001b[1;32m--> 204\u001b[1;33m                            xgb_model=xgb_model, callbacks=callbacks)\n\u001b[0m\u001b[0;32m    205\u001b[0m \u001b[1;33m\u001b[0m\u001b[0m\n\u001b[0;32m    206\u001b[0m \u001b[1;33m\u001b[0m\u001b[0m\n",
      "\u001b[1;32m~\\Anaconda3\\lib\\site-packages\\xgboost\\training.py\u001b[0m in \u001b[0;36m_train_internal\u001b[1;34m(params, dtrain, num_boost_round, evals, obj, feval, xgb_model, callbacks)\u001b[0m\n\u001b[0;32m     72\u001b[0m         \u001b[1;31m# Skip the first update if it is a recovery step.\u001b[0m\u001b[1;33m\u001b[0m\u001b[1;33m\u001b[0m\u001b[0m\n\u001b[0;32m     73\u001b[0m         \u001b[1;32mif\u001b[0m \u001b[0mversion\u001b[0m \u001b[1;33m%\u001b[0m \u001b[1;36m2\u001b[0m \u001b[1;33m==\u001b[0m \u001b[1;36m0\u001b[0m\u001b[1;33m:\u001b[0m\u001b[1;33m\u001b[0m\u001b[0m\n\u001b[1;32m---> 74\u001b[1;33m             \u001b[0mbst\u001b[0m\u001b[1;33m.\u001b[0m\u001b[0mupdate\u001b[0m\u001b[1;33m(\u001b[0m\u001b[0mdtrain\u001b[0m\u001b[1;33m,\u001b[0m \u001b[0mi\u001b[0m\u001b[1;33m,\u001b[0m \u001b[0mobj\u001b[0m\u001b[1;33m)\u001b[0m\u001b[1;33m\u001b[0m\u001b[0m\n\u001b[0m\u001b[0;32m     75\u001b[0m             \u001b[0mbst\u001b[0m\u001b[1;33m.\u001b[0m\u001b[0msave_rabit_checkpoint\u001b[0m\u001b[1;33m(\u001b[0m\u001b[1;33m)\u001b[0m\u001b[1;33m\u001b[0m\u001b[0m\n\u001b[0;32m     76\u001b[0m             \u001b[0mversion\u001b[0m \u001b[1;33m+=\u001b[0m \u001b[1;36m1\u001b[0m\u001b[1;33m\u001b[0m\u001b[0m\n",
      "\u001b[1;32m~\\Anaconda3\\lib\\site-packages\\xgboost\\core.py\u001b[0m in \u001b[0;36mupdate\u001b[1;34m(self, dtrain, iteration, fobj)\u001b[0m\n\u001b[0;32m    893\u001b[0m         \u001b[1;32mif\u001b[0m \u001b[0mfobj\u001b[0m \u001b[1;32mis\u001b[0m \u001b[1;32mNone\u001b[0m\u001b[1;33m:\u001b[0m\u001b[1;33m\u001b[0m\u001b[0m\n\u001b[0;32m    894\u001b[0m             _check_call(_LIB.XGBoosterUpdateOneIter(self.handle, ctypes.c_int(iteration),\n\u001b[1;32m--> 895\u001b[1;33m                                                     dtrain.handle))\n\u001b[0m\u001b[0;32m    896\u001b[0m         \u001b[1;32melse\u001b[0m\u001b[1;33m:\u001b[0m\u001b[1;33m\u001b[0m\u001b[0m\n\u001b[0;32m    897\u001b[0m             \u001b[0mpred\u001b[0m \u001b[1;33m=\u001b[0m \u001b[0mself\u001b[0m\u001b[1;33m.\u001b[0m\u001b[0mpredict\u001b[0m\u001b[1;33m(\u001b[0m\u001b[0mdtrain\u001b[0m\u001b[1;33m)\u001b[0m\u001b[1;33m\u001b[0m\u001b[0m\n",
      "\u001b[1;31mKeyboardInterrupt\u001b[0m: "
     ]
    }
   ],
   "source": [
    "%%time \n",
    "\n",
    "def xgb_evaluate(min_child_weight,\n",
    "                 colsample_bytree,\n",
    "                 max_depth,\n",
    "                 subsample,\n",
    "                 gamma,\n",
    "                 alpha,\n",
    "                lambdaa ):\n",
    "    params = dict()\n",
    "    params['objective'] = 'reg:logistic'\n",
    "    params['booster'] = \"gbtree\"\n",
    "    params['eval_metric'] = 'rmse'\n",
    "    params['n_jobs'] = -1\n",
    "    params['eta'] = 0.3\n",
    "    params['max_depth'] = int(max_depth )   \n",
    "    params['min_child_weight'] = int(min_child_weight)\n",
    "    params['colsample_bytree'] = colsample_bytree\n",
    "    params['subsample'] = subsample\n",
    "    params['gamma'] = gamma\n",
    "    params['alpha '] = alpha \n",
    "    params['lambda']= lambdaa\n",
    "    params['verbose_eval'] = True    \n",
    "\n",
    "    m_xgb = xgb.train(params, xgtrain,\n",
    "                           num_boost_round=100000,\n",
    "                           early_stopping_rounds=50,\n",
    "                          evals=watchlist,\n",
    "                          verbose_eval = False\n",
    "                         )\n",
    "\n",
    "    return -float(m_xgb.attr(\"best_score\"))\n",
    "\n",
    "\n",
    "xgb_BO = BayesianOptimization(xgb_evaluate, \n",
    "                             {'max_depth': (7, 30),\n",
    "                              'min_child_weight': (0, 200),\n",
    "                              'colsample_bytree': (0.1, 0.7),\n",
    "                              'subsample': (0.6, 1), #using a fraction of objects makes model generalize better, probably\n",
    "                              'gamma': (0, 2),\n",
    "                              'alpha': (0, 2),\n",
    "                              'lambdaa': (0, 2)\n",
    "                             }\n",
    "                            )\n",
    "\n",
    "xgb_BO.maximize(init_points=4, n_iter=25)"
   ]
  },
  {
   "cell_type": "code",
   "execution_count": 10,
   "metadata": {
    "collapsed": false,
    "deletable": true,
    "editable": true
   },
   "outputs": [
    {
     "data": {
      "text/html": [
       "<div>\n",
       "<style scoped>\n",
       "    .dataframe tbody tr th:only-of-type {\n",
       "        vertical-align: middle;\n",
       "    }\n",
       "\n",
       "    .dataframe tbody tr th {\n",
       "        vertical-align: top;\n",
       "    }\n",
       "\n",
       "    .dataframe thead th {\n",
       "        text-align: right;\n",
       "    }\n",
       "</style>\n",
       "<table border=\"1\" class=\"dataframe\">\n",
       "  <thead>\n",
       "    <tr style=\"text-align: right;\">\n",
       "      <th></th>\n",
       "      <th>alpha</th>\n",
       "      <th>colsample_bytree</th>\n",
       "      <th>gamma</th>\n",
       "      <th>lambdaa</th>\n",
       "      <th>max_depth</th>\n",
       "      <th>min_child_weight</th>\n",
       "      <th>subsample</th>\n",
       "      <th>score</th>\n",
       "    </tr>\n",
       "  </thead>\n",
       "  <tbody>\n",
       "    <tr>\n",
       "      <th>2</th>\n",
       "      <td>0.257868</td>\n",
       "      <td>0.350452</td>\n",
       "      <td>1.984805</td>\n",
       "      <td>1.989459</td>\n",
       "      <td>8.489096</td>\n",
       "      <td>187.412416</td>\n",
       "      <td>0.907907</td>\n",
       "      <td>-0.218484</td>\n",
       "    </tr>\n",
       "    <tr>\n",
       "      <th>10</th>\n",
       "      <td>1.997815</td>\n",
       "      <td>0.667456</td>\n",
       "      <td>0.002864</td>\n",
       "      <td>1.362883</td>\n",
       "      <td>8.055473</td>\n",
       "      <td>156.833013</td>\n",
       "      <td>0.917944</td>\n",
       "      <td>-0.218608</td>\n",
       "    </tr>\n",
       "    <tr>\n",
       "      <th>7</th>\n",
       "      <td>0.200968</td>\n",
       "      <td>0.690297</td>\n",
       "      <td>1.975469</td>\n",
       "      <td>1.954729</td>\n",
       "      <td>19.568207</td>\n",
       "      <td>105.122028</td>\n",
       "      <td>0.785710</td>\n",
       "      <td>-0.218698</td>\n",
       "    </tr>\n",
       "    <tr>\n",
       "      <th>6</th>\n",
       "      <td>0.062207</td>\n",
       "      <td>0.670226</td>\n",
       "      <td>1.901103</td>\n",
       "      <td>0.088602</td>\n",
       "      <td>28.159023</td>\n",
       "      <td>173.786800</td>\n",
       "      <td>0.726805</td>\n",
       "      <td>-0.218760</td>\n",
       "    </tr>\n",
       "    <tr>\n",
       "      <th>4</th>\n",
       "      <td>1.767074</td>\n",
       "      <td>0.374175</td>\n",
       "      <td>1.670748</td>\n",
       "      <td>1.903646</td>\n",
       "      <td>28.583216</td>\n",
       "      <td>198.775070</td>\n",
       "      <td>0.767384</td>\n",
       "      <td>-0.218796</td>\n",
       "    </tr>\n",
       "  </tbody>\n",
       "</table>\n",
       "</div>"
      ],
      "text/plain": [
       "       alpha  colsample_bytree     gamma   lambdaa  max_depth  \\\n",
       "2   0.257868          0.350452  1.984805  1.989459   8.489096   \n",
       "10  1.997815          0.667456  0.002864  1.362883   8.055473   \n",
       "7   0.200968          0.690297  1.975469  1.954729  19.568207   \n",
       "6   0.062207          0.670226  1.901103  0.088602  28.159023   \n",
       "4   1.767074          0.374175  1.670748  1.903646  28.583216   \n",
       "\n",
       "    min_child_weight  subsample     score  \n",
       "2         187.412416   0.907907 -0.218484  \n",
       "10        156.833013   0.917944 -0.218608  \n",
       "7         105.122028   0.785710 -0.218698  \n",
       "6         173.786800   0.726805 -0.218760  \n",
       "4         198.775070   0.767384 -0.218796  "
      ]
     },
     "execution_count": 10,
     "metadata": {},
     "output_type": "execute_result"
    }
   ],
   "source": [
    "xgb_BO_scores = pd.DataFrame(xgb_BO.res['all']['params'])\n",
    "xgb_BO_scores['score'] = pd.DataFrame(xgb_BO.res['all']['values'])\n",
    "xgb_BO_scores = xgb_BO_scores.sort_values(by='score',ascending=False)\n",
    "xgb_BO_scores.head()"
   ]
  },
  {
   "cell_type": "code",
   "execution_count": 11,
   "metadata": {
    "collapsed": false,
    "deletable": true,
    "editable": true,
    "scrolled": true
   },
   "outputs": [
    {
     "data": {
      "text/plain": [
       "<seaborn.axisgrid.PairGrid at 0x1bc8e59f940>"
      ]
     },
     "execution_count": 11,
     "metadata": {},
     "output_type": "execute_result"
    },
    {
     "data": {
      "image/png": "[encoded data removed]",
      "text/plain": [
       "<Figure size 1440x1440 with 72 Axes>"
      ]
     },
     "metadata": {},
     "output_type": "display_data"
    }
   ],
   "source": [
    "import seaborn as sns\n",
    "%matplotlib inline\n",
    "sns.pairplot(xgb_BO_scores)\n",
    "#plt.show()"
   ]
  },
  {
   "cell_type": "code",
   "execution_count": 12,
   "metadata": {
    "collapsed": false,
    "deletable": true,
    "editable": true
   },
   "outputs": [
    {
     "data": {
      "text/plain": [
       "{'alpha': 0.2578675178084593,\n",
       " 'colsample_bytree': 0.3504522847639341,\n",
       " 'gamma': 1.984805124969772,\n",
       " 'lambdaa': 1.9894590303715745,\n",
       " 'max_depth': 8.489096430232564,\n",
       " 'min_child_weight': 187.4124157610732,\n",
       " 'subsample': 0.90790655644221,\n",
       " 'score': -0.218484}"
      ]
     },
     "execution_count": 12,
     "metadata": {},
     "output_type": "execute_result"
    }
   ],
   "source": [
    "xgb_params = xgb_BO_scores.iloc[0].to_dict()\n",
    "xgb_params"
   ]
  },
  {
   "cell_type": "code",
   "execution_count": null,
   "metadata": {
    "collapsed": true,
    "deletable": true,
    "editable": true
   },
   "outputs": [],
   "source": [
    "%%time\n",
    "\n",
    "xgb_params = xgb_BO_scores.iloc[0].to_dict()\n",
    "xgb_params['objective'] = 'reg:logistic'\n",
    "xgb_params['booster'] = \"gbtree\"\n",
    "xgb_params['eval_metric'] = 'rmse'\n",
    "xgb_params['n_jobs'] = -1\n",
    "xgb_params['eta'] = 0.03 # Smaller \n",
    "\n",
    "xgb_params['max_depth'] = int(xgb_params['max_depth'])   \n",
    "xgb_params['min_child_weight'] = int(xgb_params['min_child_weight'])    \n",
    "xgb_params['subsample'] = xgb_params['subsample']     \n",
    "xgb_params['colsample_bytree'] = xgb_params['colsample_bytree']\n",
    "xgb_params['gamma'] = xgb_params['gamma']\n",
    "xgb_params['alpha '] = xgb_params['alpha']\n",
    "xgb_params['lambda']= xgb_params['lambdaa']\n",
    "#xgb_params['seed']=1234"
   ]
  },
  {
   "cell_type": "code",
   "execution_count": 12,
   "metadata": {
    "collapsed": true,
    "deletable": true,
    "editable": true
   },
   "outputs": [],
   "source": [
    "xgb_params = dict()\n",
    "\n",
    "xgb_params['objective'] = 'reg:logistic'\n",
    "xgb_params['booster'] = \"gbtree\"\n",
    "xgb_params['eval_metric'] = 'rmse'\n",
    "xgb_params['n_jobs'] = -1\n",
    "xgb_params['eta'] = 0.02 # Smaller \n",
    "\n",
    "xgb_params['max_depth'] = 18\n",
    "xgb_params['min_child_weight'] = 8  \n",
    "xgb_params['subsample'] = 0.8   \n",
    "xgb_params['colsample_bytree'] = 0.7\n",
    "xgb_params['gamma'] = 0\n",
    "xgb_params['alpha '] = 0\n",
    "xgb_params['lambda']= 0.2"
   ]
  },
  {
   "cell_type": "code",
   "execution_count": 13,
   "metadata": {
    "collapsed": false,
    "deletable": true,
    "editable": true
   },
   "outputs": [
    {
     "data": {
      "text/plain": [
       "{'objective': 'reg:logistic',\n",
       " 'booster': 'gbtree',\n",
       " 'eval_metric': 'rmse',\n",
       " 'n_jobs': -1,\n",
       " 'eta': 0.02,\n",
       " 'max_depth': 18,\n",
       " 'min_child_weight': 8,\n",
       " 'subsample': 0.8,\n",
       " 'colsample_bytree': 0.7,\n",
       " 'gamma': 0,\n",
       " 'alpha ': 0,\n",
       " 'lambda': 0.2}"
      ]
     },
     "execution_count": 13,
     "metadata": {},
     "output_type": "execute_result"
    }
   ],
   "source": [
    "xgb_params"
   ]
  },
  {
   "cell_type": "code",
   "execution_count": 14,
   "metadata": {
    "collapsed": false,
    "deletable": true,
    "editable": true,
    "scrolled": false
   },
   "outputs": [
    {
     "name": "stdout",
     "output_type": "stream",
     "text": [
      "[0]\teval-rmse:0.438052\n",
      "Will train until eval-rmse hasn't improved in 50 rounds.\n",
      "[100]\teval-rmse:0.228901\n",
      "[200]\teval-rmse:0.221563\n",
      "[300]\teval-rmse:0.22088\n",
      "[400]\teval-rmse:0.220585\n",
      "[500]\teval-rmse:0.22047\n",
      "[600]\teval-rmse:0.22038\n",
      "[700]\teval-rmse:0.220316\n",
      "[800]\teval-rmse:0.220279\n",
      "[900]\teval-rmse:0.220248\n",
      "[1000]\teval-rmse:0.220233\n",
      "[1100]\teval-rmse:0.220199\n",
      "[1200]\teval-rmse:0.220175\n",
      "[1300]\teval-rmse:0.220125\n",
      "[1400]\teval-rmse:0.220094\n",
      "[1500]\teval-rmse:0.220067\n",
      "[1600]\teval-rmse:0.22004\n",
      "[1700]\teval-rmse:0.220021\n",
      "[1800]\teval-rmse:0.220003\n",
      "[1900]\teval-rmse:0.219975\n",
      "[2000]\teval-rmse:0.219967\n",
      "[2100]\teval-rmse:0.219944\n",
      "[2200]\teval-rmse:0.219936\n",
      "Stopping. Best iteration:\n",
      "[2175]\teval-rmse:0.219936\n",
      "\n"
     ]
    }
   ],
   "source": [
    "m_xgb = xgb.train(xgb_params, xgtrain,\n",
    "                           num_boost_round=100000,\n",
    "                           early_stopping_rounds=50,\n",
    "                          evals=watchlist,\n",
    "                          verbose_eval = 100\n",
    "                         )\n",
    "\n",
    "best_xgb_score = float(m_xgb.attr(\"best_score\"))\n",
    "best_xgb_iteration = float(m_xgb.attr(\"best_iteration\"))"
   ]
  },
  {
   "cell_type": "code",
   "execution_count": 17,
   "metadata": {
    "collapsed": false,
    "deletable": true,
    "editable": true
   },
   "outputs": [
    {
     "data": {
      "text/plain": [
       "<xgboost.core.Booster at 0x1bcbb03ac18>"
      ]
     },
     "execution_count": 17,
     "metadata": {},
     "output_type": "execute_result"
    }
   ],
   "source": [
    "m_xgb"
   ]
  },
  {
   "cell_type": "code",
   "execution_count": 17,
   "metadata": {
    "collapsed": false,
    "deletable": true,
    "editable": true
   },
   "outputs": [
    {
     "data": {
      "text/plain": [
       "['m_xgb.pkl']"
      ]
     },
     "execution_count": 17,
     "metadata": {},
     "output_type": "execute_result"
    }
   ],
   "source": [
    "from sklearn.externals import joblib\n",
    "# save model\n",
    "joblib.dump(m_xgb, 'm_xgb.pkl')\n",
    "# load model\n",
    "#gbm_pickle = joblib.load('lgb.pkl')"
   ]
  },
  {
   "cell_type": "code",
   "execution_count": 15,
   "metadata": {
    "collapsed": true,
    "deletable": true,
    "editable": true
   },
   "outputs": [],
   "source": [
    "xgb_f = xgb.DMatrix(data=X, label=y)"
   ]
  },
  {
   "cell_type": "code",
   "execution_count": 16,
   "metadata": {
    "collapsed": true,
    "deletable": true,
    "editable": true
   },
   "outputs": [],
   "source": [
    "m_xgb = xgb.train(xgb_params, xgb_f,\n",
    "                           num_boost_round=2175,\n",
    "                           verbose_eval = 50\n",
    "                          )"
   ]
  },
  {
   "cell_type": "code",
   "execution_count": 20,
   "metadata": {
    "collapsed": true,
    "deletable": true,
    "editable": true
   },
   "outputs": [],
   "source": [
    "xgb_pred = m_xgb.predict(xgtest)"
   ]
  },
  {
   "cell_type": "code",
   "execution_count": 23,
   "metadata": {
    "collapsed": true,
    "deletable": true,
    "editable": true
   },
   "outputs": [],
   "source": [
    "xgb_submission = pd.DataFrame(xgb_pred,columns=[\"deal_probability\"],index=testdex)\n",
    "xgb_submission['deal_probability'].clip(0.0, 1.0, inplace=True)\n",
    "xgb_submission.to_csv(\"final_ridge_aggfeats_xgb-21994-.csv\",index=True,header=True) # Between 0 and 1"
   ]
  }
 ],
 "metadata": {
  "kernelspec": {
   "display_name": "Python 3",
   "language": "python",
   "name": "python3"
  },
  "language_info": {
   "codemirror_mode": {
    "name": "ipython",
    "version": 3
   },
   "file_extension": ".py",
   "mimetype": "text/x-python",
   "name": "python",
   "nbconvert_exporter": "python",
   "pygments_lexer": "ipython3",
   "version": "3.6.3"
  }
 },
 "nbformat": 4,
 "nbformat_minor": 2
}
